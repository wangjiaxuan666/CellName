{
 "cells": [
  {
   "cell_type": "code",
   "execution_count": null,
   "outputs": [],
   "source": [
    "!git clone\n",
    "!pip install -e ."
   ],
   "metadata": {
    "collapsed": false,
    "pycharm": {
     "name": "#%%\n"
    }
   }
  },
  {
   "cell_type": "code",
   "execution_count": 3,
   "metadata": {
    "collapsed": true,
    "pycharm": {
     "name": "#%%\n"
    }
   },
   "outputs": [],
   "source": [
    "from cellname import predict_celltype\n",
    "import scanpy as sc\n",
    "import os"
   ]
  },
  {
   "cell_type": "code",
   "execution_count": 5,
   "outputs": [
    {
     "data": {
      "text/plain": "'/Users/dalena/Data/pydata/cellname/cellname/notebook'"
     },
     "execution_count": 5,
     "metadata": {},
     "output_type": "execute_result"
    }
   ],
   "source": [
    "os.getcwd()"
   ],
   "metadata": {
    "collapsed": false,
    "pycharm": {
     "name": "#%%\n"
    }
   }
  },
  {
   "cell_type": "code",
   "execution_count": 6,
   "outputs": [],
   "source": [
    "adata = sc.read(\"../data/s_scanpy.h5ad\")\n",
    "tempAdata = adata.raw.to_adata()\n",
    "adata.raw = tempAdata"
   ],
   "metadata": {
    "collapsed": false,
    "pycharm": {
     "name": "#%%\n"
    }
   }
  },
  {
   "cell_type": "code",
   "execution_count": 7,
   "outputs": [],
   "source": [
    "cl = predict_celltype(adata, clusters=\"leiden\",q = 0.5)"
   ],
   "metadata": {
    "collapsed": false,
    "pycharm": {
     "name": "#%%\n"
    }
   }
  },
  {
   "cell_type": "code",
   "execution_count": 8,
   "outputs": [
    {
     "data": {
      "text/plain": "         activity score         cell type       p-value  \\\ncluster                                                   \n0             27.290147  Purkinje neurons  5.513766e-05   \n1             87.449733           Neurons  6.327218e-52   \n2             51.986108           Neurons  2.482824e-25   \n3             35.936306  Purkinje neurons  8.736606e-11   \n4             31.955863  Purkinje neurons  6.468737e-08   \n5             73.635034           Neurons  1.355389e-46   \n6             27.000173  Purkinje neurons  1.972538e-04   \n7             52.291852           Neurons  3.198239e-34   \n8             38.209442           Neurons  9.007311e-14   \n9             90.706921           Neurons  5.876504e-51   \n10            52.241606  Oligodendrocytes  2.008663e-25   \n11            55.182167           Neurons  2.551428e-27   \n12            29.347788  Purkinje neurons  1.450020e-09   \n\n                                                   markers  \\\ncluster                                                      \n0              DLGAP1,CPLX1,PRKG1,ATP2B2,PRKCA,PPM1E,PVALB   \n1        GPRASP2,SYT5,KCNC1,NBEA,VSNL1,ATP6V1H,GABBR2,D...   \n2        ICAM5,PCSK2,DLGAP1,TMEM59L,NCALD,CALB1,PCLO,RA...   \n3        SLC12A5,DLGAP1,ABAT,PCP4L1,PRKCA,DLG4,PPM1E,PE...   \n4        DLGAP1,GAD1,CPLX1,PRKG1,CAMK2A,CALB1,ATP2B2,PC...   \n5        NEFH,GPRASP2,B3GAT2,SYT5,KCNC1,NBEA,VSNL1,ATP6...   \n6                     DLGAP1,CPLX1,PRKG1,PRKCA,PPM1E,PVALB   \n7        NEFH,GPRASP2,B3GAT2,SYT5,SCRG1,KCNC1,NBEA,VSNL...   \n8        PCSK2,DLGAP1,NCALD,CDK5,FRRS1L,CACNB3,VSNL1,GA...   \n9        NEFH,GPRASP2,B3GAT2,SYT5,KCNC1,NBEA,VSNL1,ATP6...   \n10       TYRO3,GJB1,OPALIN,BCAS1,NKX6-2,PLEKHH1,GJC2,SO...   \n11       PCSK2,DLGAP1,DISP2,TMEM59L,RYR2,NCALD,CALB1,DL...   \n12       SLC12A5,DLGAP1,ABAT,PCP4L1,PRKCA,PPM1E,PENK,GR...   \n\n         adjusted p-value BH  \ncluster                       \n0               2.319792e-03  \n1               1.464118e-48  \n2               5.222959e-23  \n3               8.789785e-09  \n4               4.402546e-06  \n5               1.045457e-43  \n6               7.362021e-03  \n7               1.233454e-31  \n8               1.042146e-11  \n9               6.799115e-48  \n10              4.648047e-23  \n11              7.380005e-25  \n12              1.290518e-07  ",
      "text/html": "<div>\n<style scoped>\n    .dataframe tbody tr th:only-of-type {\n        vertical-align: middle;\n    }\n\n    .dataframe tbody tr th {\n        vertical-align: top;\n    }\n\n    .dataframe thead th {\n        text-align: right;\n    }\n</style>\n<table border=\"1\" class=\"dataframe\">\n  <thead>\n    <tr style=\"text-align: right;\">\n      <th></th>\n      <th>activity score</th>\n      <th>cell type</th>\n      <th>p-value</th>\n      <th>markers</th>\n      <th>adjusted p-value BH</th>\n    </tr>\n    <tr>\n      <th>cluster</th>\n      <th></th>\n      <th></th>\n      <th></th>\n      <th></th>\n      <th></th>\n    </tr>\n  </thead>\n  <tbody>\n    <tr>\n      <th>0</th>\n      <td>27.290147</td>\n      <td>Purkinje neurons</td>\n      <td>5.513766e-05</td>\n      <td>DLGAP1,CPLX1,PRKG1,ATP2B2,PRKCA,PPM1E,PVALB</td>\n      <td>2.319792e-03</td>\n    </tr>\n    <tr>\n      <th>1</th>\n      <td>87.449733</td>\n      <td>Neurons</td>\n      <td>6.327218e-52</td>\n      <td>GPRASP2,SYT5,KCNC1,NBEA,VSNL1,ATP6V1H,GABBR2,D...</td>\n      <td>1.464118e-48</td>\n    </tr>\n    <tr>\n      <th>2</th>\n      <td>51.986108</td>\n      <td>Neurons</td>\n      <td>2.482824e-25</td>\n      <td>ICAM5,PCSK2,DLGAP1,TMEM59L,NCALD,CALB1,PCLO,RA...</td>\n      <td>5.222959e-23</td>\n    </tr>\n    <tr>\n      <th>3</th>\n      <td>35.936306</td>\n      <td>Purkinje neurons</td>\n      <td>8.736606e-11</td>\n      <td>SLC12A5,DLGAP1,ABAT,PCP4L1,PRKCA,DLG4,PPM1E,PE...</td>\n      <td>8.789785e-09</td>\n    </tr>\n    <tr>\n      <th>4</th>\n      <td>31.955863</td>\n      <td>Purkinje neurons</td>\n      <td>6.468737e-08</td>\n      <td>DLGAP1,GAD1,CPLX1,PRKG1,CAMK2A,CALB1,ATP2B2,PC...</td>\n      <td>4.402546e-06</td>\n    </tr>\n    <tr>\n      <th>5</th>\n      <td>73.635034</td>\n      <td>Neurons</td>\n      <td>1.355389e-46</td>\n      <td>NEFH,GPRASP2,B3GAT2,SYT5,KCNC1,NBEA,VSNL1,ATP6...</td>\n      <td>1.045457e-43</td>\n    </tr>\n    <tr>\n      <th>6</th>\n      <td>27.000173</td>\n      <td>Purkinje neurons</td>\n      <td>1.972538e-04</td>\n      <td>DLGAP1,CPLX1,PRKG1,PRKCA,PPM1E,PVALB</td>\n      <td>7.362021e-03</td>\n    </tr>\n    <tr>\n      <th>7</th>\n      <td>52.291852</td>\n      <td>Neurons</td>\n      <td>3.198239e-34</td>\n      <td>NEFH,GPRASP2,B3GAT2,SYT5,SCRG1,KCNC1,NBEA,VSNL...</td>\n      <td>1.233454e-31</td>\n    </tr>\n    <tr>\n      <th>8</th>\n      <td>38.209442</td>\n      <td>Neurons</td>\n      <td>9.007311e-14</td>\n      <td>PCSK2,DLGAP1,NCALD,CDK5,FRRS1L,CACNB3,VSNL1,GA...</td>\n      <td>1.042146e-11</td>\n    </tr>\n    <tr>\n      <th>9</th>\n      <td>90.706921</td>\n      <td>Neurons</td>\n      <td>5.876504e-51</td>\n      <td>NEFH,GPRASP2,B3GAT2,SYT5,KCNC1,NBEA,VSNL1,ATP6...</td>\n      <td>6.799115e-48</td>\n    </tr>\n    <tr>\n      <th>10</th>\n      <td>52.241606</td>\n      <td>Oligodendrocytes</td>\n      <td>2.008663e-25</td>\n      <td>TYRO3,GJB1,OPALIN,BCAS1,NKX6-2,PLEKHH1,GJC2,SO...</td>\n      <td>4.648047e-23</td>\n    </tr>\n    <tr>\n      <th>11</th>\n      <td>55.182167</td>\n      <td>Neurons</td>\n      <td>2.551428e-27</td>\n      <td>PCSK2,DLGAP1,DISP2,TMEM59L,RYR2,NCALD,CALB1,DL...</td>\n      <td>7.380005e-25</td>\n    </tr>\n    <tr>\n      <th>12</th>\n      <td>29.347788</td>\n      <td>Purkinje neurons</td>\n      <td>1.450020e-09</td>\n      <td>SLC12A5,DLGAP1,ABAT,PCP4L1,PRKCA,PPM1E,PENK,GR...</td>\n      <td>1.290518e-07</td>\n    </tr>\n  </tbody>\n</table>\n</div>"
     },
     "execution_count": 8,
     "metadata": {},
     "output_type": "execute_result"
    }
   ],
   "source": [
    "cl"
   ],
   "metadata": {
    "collapsed": false,
    "pycharm": {
     "name": "#%%\n"
    }
   }
  },
  {
   "cell_type": "code",
   "execution_count": 15,
   "outputs": [
    {
     "data": {
      "text/plain": "<Figure size 432x288 with 1 Axes>",
      "image/png": "[encoded data removed]"
     },
     "metadata": {},
     "output_type": "display_data"
    }
   ],
   "source": [
    "cluster2annotation = {str(x) : y for x,y in cl['cell type'].items()}\n",
    "# add a new `.obs` column called `cell type` by mapping clusters to annotation using pandas `map` function\n",
    "adata.obs['leiden'].map(cluster2annotation).astype('category')\n",
    "adata.obs['cellname2'] = adata.obs['leiden'].map(cluster2annotation).astype('category')\n",
    "sc.pl.spatial(adata,color=\"cellname2\",legend_fontsize=8,spot_size=20)"
   ],
   "metadata": {
    "collapsed": false,
    "pycharm": {
     "name": "#%%\n"
    }
   }
  }
 ],
 "metadata": {
  "kernelspec": {
   "name": "python391jvsc74a57bd0f5bb60de2872d21c9c0be6d34fb903e62caa1326aa35bd616ddf92bb6a8849fb",
   "language": "python",
   "display_name": "Python 3.9.1 64-bit ('base': conda)"
  },
  "language_info": {
   "codemirror_mode": {
    "name": "ipython",
    "version": 2
   },
   "file_extension": ".py",
   "mimetype": "text/x-python",
   "name": "python",
   "nbconvert_exporter": "python",
   "pygments_lexer": "ipython2",
   "version": "2.7.6"
  }
 },
 "nbformat": 4,
 "nbformat_minor": 0
}